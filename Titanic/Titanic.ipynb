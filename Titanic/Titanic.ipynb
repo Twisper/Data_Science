{
 "cells": [
  {
   "cell_type": "code",
   "id": "initial_id",
   "metadata": {
    "collapsed": true,
    "jupyter": {
     "outputs_hidden": true
    }
   },
   "source": [
    "import pandas as pd\n",
    "from sklearn.model_selection import train_test_split\n",
    "from sklearn.metrics import accuracy_score, classification_report\n",
    "from sklearn.linear_model import LogisticRegression\n",
    "titanic_train = pd.read_csv('train.csv')\n",
    "titanic_test = pd.read_csv('test.csv')\n",
    "\n",
    "test_passenger_ids = titanic_test['PassengerId']\n",
    "n_train = titanic_train.shape[0]\n",
    "full_df = pd.concat([titanic_train, titanic_test], ignore_index=True)"
   ],
   "outputs": [],
   "execution_count": null
  },
  {
   "cell_type": "code",
   "id": "18504cfc2ab4ff41",
   "metadata": {},
   "source": [
    "def preprocessing(df):\n",
    "    df.fillna({'Embarked': df['Embarked'].mode()[0]}, inplace=True)\n",
    "\n",
    "    df['Title'] = df['Name'].str.extract(r' ([A-Za-z]+)\\.', expand=False)\n",
    "    df['Title'] = df['Title'].replace(['Capt', 'Col', 'Countess', 'Don', 'Dr', 'Jonkheer', 'Lady', 'Major', 'Mlle', 'Mme', 'Ms', 'Rev', 'Sir', 'Dona'], 'Rare')\n",
    "    age_medians_by_value = df.groupby('Title')['Age'].transform('median')\n",
    "    df['Age'] = df['Age'].fillna(age_medians_by_value)\n",
    "\n",
    "    fare_medians_by_value = df.groupby('Title')['Fare'].transform('median')\n",
    "    df['Fare'] = df['Fare'].fillna(fare_medians_by_value)\n",
    "\n",
    "    df['Cabin'] = df['Cabin'].fillna('U')\n",
    "\n",
    "    df['Deck'] = df['Cabin'].str[0]\n",
    "\n",
    "    df.drop('Name', axis=1, inplace=True)\n",
    "    df.drop('Ticket', axis=1, inplace=True)\n",
    "    df.drop('Cabin', axis=1, inplace=True)\n",
    "\n",
    "    dummies_emb = pd.get_dummies(df['Embarked'], prefix='Embarked').astype(int)\n",
    "    df = pd.concat([df, dummies_emb], axis=1)\n",
    "    df.drop('Embarked', axis=1, inplace=True)\n",
    "\n",
    "    dummies_deck = pd.get_dummies(df['Deck'], prefix='Deck').astype(int)\n",
    "    df = pd.concat([df, dummies_deck], axis=1)\n",
    "    df.drop('Deck', axis=1, inplace=True)\n",
    "\n",
    "    dummies_title = pd.get_dummies(df['Title'], prefix='Title').astype(int)\n",
    "    df = pd.concat([df, dummies_title], axis=1)\n",
    "    df.drop('Title', axis=1, inplace=True)\n",
    "\n",
    "    df['FamilySize'] = df['SibSp'] + df['Parch'] + 1\n",
    "    df.drop('SibSp', axis=1, inplace=True)\n",
    "    df.drop('Parch', axis=1, inplace=True)\n",
    "\n",
    "    df['Sex'] = df['Sex'].map({'male': 0, 'female': 1})\n",
    "\n",
    "    return df"
   ],
   "outputs": [],
   "execution_count": null
  },
  {
   "metadata": {},
   "cell_type": "code",
   "source": [
    "processed_df = preprocessing(full_df)\n",
    "train_df = processed_df.iloc[:n_train]\n",
    "test_df = processed_df.iloc[n_train:]"
   ],
   "id": "8c7b8c694c0c59bf",
   "outputs": [],
   "execution_count": null
  },
  {
   "metadata": {},
   "cell_type": "code",
   "source": [
    "X = train_df.drop(['Survived', 'PassengerId'], axis=1)\n",
    "y = train_df['Survived']\n",
    "X_train, X_test, y_train, y_test = train_test_split(X, y, test_size=0.2, random_state=11) #11\n",
    "model = LogisticRegression(max_iter=200, random_state=3)\n",
    "model.fit(X_train, y_train)\n",
    "predictions = model.predict(X_test)\n",
    "print(f\"Accuracy: {accuracy_score(y_test, predictions)}\")\n",
    "print(classification_report(y_test, predictions))"
   ],
   "id": "5f764032fd7fb609",
   "outputs": [],
   "execution_count": null
  },
  {
   "metadata": {},
   "cell_type": "code",
   "source": [
    "X_full_train = train_df.drop(['Survived', 'PassengerId'], axis=1)\n",
    "y_full_train = train_df['Survived']\n",
    "final_model = LogisticRegression(max_iter=500, random_state=11)\n",
    "final_model.fit(X_full_train, y_full_train)\n",
    "\n",
    "X_full_test = test_df.drop(['PassengerId','Survived'], axis=1)\n",
    "predictions = final_model.predict(X_full_test)\n",
    "print(predictions)"
   ],
   "id": "d9c2ead3a7caaa5d",
   "outputs": [],
   "execution_count": null
  },
  {
   "metadata": {},
   "cell_type": "code",
   "source": [
    "submission_df = pd.DataFrame({\n",
    "    'PassengerId': test_passenger_ids,\n",
    "    'Survived': predictions\n",
    "})\n",
    "submission_df['Survived'] = submission_df['Survived'].astype(int)\n",
    "submission_df.to_csv('submission.csv', index=False)"
   ],
   "id": "e3ea0c2ff143733",
   "outputs": [],
   "execution_count": null
  }
 ],
 "metadata": {
  "kernelspec": {
   "display_name": "Python 3 (ipykernel)",
   "language": "python",
   "name": "python3"
  },
  "language_info": {
   "codemirror_mode": {
    "name": "ipython",
    "version": 3
   },
   "file_extension": ".py",
   "mimetype": "text/x-python",
   "name": "python",
   "nbconvert_exporter": "python",
   "pygments_lexer": "ipython3",
   "version": "3.13.2"
  }
 },
 "nbformat": 4,
 "nbformat_minor": 5
}
